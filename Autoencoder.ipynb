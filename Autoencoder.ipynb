{
 "cells": [
  {
   "cell_type": "code",
   "execution_count": 77,
   "metadata": {
    "collapsed": true
   },
   "outputs": [],
   "source": [
    "import numpy as np\n",
    "import tensorflow as tf\n",
    "from sklearn.cross_validation import train_test_split\n",
    "from sklearn.metrics import accuracy_score, classification_report\n",
    "from sklearn.neighbors import KNeighborsClassifier\n",
    "import sklearn.preprocessing\n",
    "import sklearn.decomposition\n",
    "from sklearn.linear_model import LogisticRegressionCV\n",
    "from sklearn.datasets import fetch_mldata\n",
    "from helpers import batch_iter"
   ]
  },
  {
   "cell_type": "code",
   "execution_count": 78,
   "metadata": {
    "collapsed": true
   },
   "outputs": [],
   "source": [
    "DATA_HOME = \"./data\"\n",
    "np.random.seed(42)"
   ]
  },
  {
   "cell_type": "code",
   "execution_count": 79,
   "metadata": {
    "collapsed": false
   },
   "outputs": [
    {
     "name": "stderr",
     "output_type": "stream",
     "text": [
      "/Users/dennybritz/projects/venvs/tensorflow/lib/python3.5/site-packages/sklearn/utils/validation.py:420: DataConversionWarning: Data with input dtype uint8 was converted to float64 by the scale function.\n",
      "  warnings.warn(msg, DataConversionWarning)\n"
     ]
    }
   ],
   "source": [
    "# Load MNIST Data\n",
    "mnist = fetch_mldata('MNIST original', data_home=DATA_HOME)\n",
    "data_x = sklearn.preprocessing.scale(mnist.data)\n",
    "x_train, x_test, y_train, y_test = train_test_split(data_x, mnist.target, test_size=0.1, random_state=42)"
   ]
  },
  {
   "cell_type": "code",
   "execution_count": null,
   "metadata": {
    "collapsed": false
   },
   "outputs": [],
   "source": [
    "class Autoencoder:\n",
    "    \n",
    "    def build_layer(self, output_dim, prev_layer, activation_func=tf.tanh):\n",
    "        \"\"\"\n",
    "        Builds a single hidden layer.\n",
    "        \"\"\"\n",
    "        input_dim = prev_layer.get_shape().as_list()[1]\n",
    "        W_init = tf.random_uniform([input_dim, output_dim], -1.0/np.sqrt(input_dim), 1.0/np.sqrt(input_dim))\n",
    "        W = tf.Variable(W_init, name=\"W\")\n",
    "        b = tf.Variable(tf.zeros([output_dim]), name=\"b\")\n",
    "        return activation_func(tf.nn.xw_plus_b(prev_layer, W, b))\n",
    "    \n",
    "    def __init__(self, x, hidden_dims=[32]):        \n",
    "        # Keeps track of the hidden layers so we can refer to them later\n",
    "        self.hidden_layers = []\n",
    "        prev_layer = x\n",
    "        \n",
    "        # For each dimension, build a hidden layer\n",
    "        for i, layer in enumerate(hidden_dims):\n",
    "            with tf.variable_scope(\"hidden-{}\".format(i)):\n",
    "                prev_layer = self.build_layer(hidden_dims[i], prev_layer)\n",
    "                self.hidden_layers.append(prev_layer)\n",
    "               \n",
    "        # Build output (reconstruction) layer\n",
    "        with tf.variable_scope(\"output\"):\n",
    "            output_dim = x.get_shape().as_list()[1]\n",
    "            self.output = self.build_layer(output_dim, prev_layer)\n",
    "        \n",
    "        # Squared loss function\n",
    "        self.total_loss = tf.reduce_sum(tf.square(x - self.output))\n",
    "        self.avg_loss = tf.reduce_mean(tf.square(x - self.output))"
   ]
  },
  {
   "cell_type": "code",
   "execution_count": null,
   "metadata": {
    "collapsed": false
   },
   "outputs": [],
   "source": [
    "BATCH_SIZE = 32\n",
    "NUM_EPOCHS = 30\n",
    "PRINT_LOSS_EVERY=2000\n",
    "LAYERS = [32, 32]\n",
    "\n",
    "graph = tf.Graph()\n",
    "sess = tf.Session(graph=graph)\n",
    "\n",
    "with graph.as_default(), sess.as_default():\n",
    "    x = tf.placeholder(tf.float32, [None, x_train.shape[1]])\n",
    "    ae = Autoencoder(x, LAYERS)\n",
    "    \n",
    "    # Optimization\n",
    "    global_step = tf.Variable(0, name=\"global_step\", trainable=False)\n",
    "    optimizer = tf.train.AdamOptimizer(1e-4)\n",
    "    train_op = optimizer.minimize(ae.total_loss, global_step=global_step)\n",
    "    \n",
    "    # Initialize variables\n",
    "    sess.run(tf.initialize_all_variables())\n",
    "    \n",
    "    batches = batch_iter(x_train, BATCH_SIZE, NUM_EPOCHS)\n",
    "    # For each batch...\n",
    "    for x_batch in batches:\n",
    "        feed_dict = { x: x_batch }\n",
    "        _, loss, step = sess.run([train_op, ae.avg_loss, global_step], feed_dict)\n",
    "        if step % PRINT_LOSS_EVERY == 0:\n",
    "            total_loss =  sess.run(ae.avg_loss, { x: x_train })\n",
    "            print(\"{}: Mean Loss: {:g}\".format(step ,total_loss))\n",
    "    print(\"{}: Final Mean Loss: {:g}\".format(step ,total_loss))"
   ]
  },
  {
   "cell_type": "code",
   "execution_count": null,
   "metadata": {
    "collapsed": false
   },
   "outputs": [],
   "source": [
    "# Get the compressed representation of the input X\n",
    "with graph.as_default(), sess.as_default():\n",
    "    x_train_transformed = sess.run(ae.hidden_layers[1], { x: x_train })\n",
    "    x_test_transformed = sess.run(ae.hidden_layers[1], { x: x_test })"
   ]
  },
  {
   "cell_type": "code",
   "execution_count": null,
   "metadata": {
    "collapsed": false
   },
   "outputs": [],
   "source": [
    "clf = KNeighborsClassifier()\n",
    "clf.fit(x_train_transformed, y_train)\n",
    "y_pred = clf.predict(x_test_transformed)\n",
    "print(classification_report(y_test, y_pred, digits=3))"
   ]
  },
  {
   "cell_type": "code",
   "execution_count": null,
   "metadata": {
    "collapsed": false
   },
   "outputs": [],
   "source": []
  }
 ],
 "metadata": {
  "kernelspec": {
   "display_name": "Python 3",
   "language": "python",
   "name": "python3"
  },
  "language_info": {
   "codemirror_mode": {
    "name": "ipython",
    "version": 3
   },
   "file_extension": ".py",
   "mimetype": "text/x-python",
   "name": "python",
   "nbconvert_exporter": "python",
   "pygments_lexer": "ipython3",
   "version": "3.5.0"
  }
 },
 "nbformat": 4,
 "nbformat_minor": 0
}
