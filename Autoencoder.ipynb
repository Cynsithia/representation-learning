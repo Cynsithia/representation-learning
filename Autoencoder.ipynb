{
 "cells": [
  {
   "cell_type": "code",
   "execution_count": 1,
   "metadata": {
    "collapsed": true
   },
   "outputs": [],
   "source": [
    "import numpy as np\n",
    "import tensorflow as tf\n",
    "from sklearn.cross_validation import train_test_split\n",
    "from sklearn.metrics import accuracy_score, classification_report\n",
    "from sklearn.neighbors import KNeighborsClassifier\n",
    "import sklearn.preprocessing\n",
    "import sklearn.decomposition\n",
    "from sklearn.linear_model import LogisticRegressionCV\n",
    "from sklearn.datasets import fetch_mldata"
   ]
  },
  {
   "cell_type": "code",
   "execution_count": 2,
   "metadata": {
    "collapsed": true
   },
   "outputs": [],
   "source": [
    "DATA_HOME = \"./data\"\n",
    "np.random.seed(42)"
   ]
  },
  {
   "cell_type": "code",
   "execution_count": 3,
   "metadata": {
    "collapsed": true
   },
   "outputs": [],
   "source": [
    "def batch_iter(data, batch_size, num_epochs, seed=None, fill=False):\n",
    "    \"\"\"\n",
    "    Generates a batch iterator for a dataset.\n",
    "    \"\"\"\n",
    "    random = np.random.RandomState(seed)\n",
    "    data = np.array(data)\n",
    "    data_length = len(data)\n",
    "    num_batches_per_epoch = int(len(data)/batch_size)\n",
    "    if len(data) % batch_size != 0:\n",
    "        num_batches_per_epoch += 1\n",
    "    for epoch in range(num_epochs):\n",
    "        # Shuffle the data at each epoch\n",
    "        shuffle_indices = random.permutation(np.arange(data_length))\n",
    "        for batch_num in range(num_batches_per_epoch):\n",
    "            start_index = batch_num * batch_size\n",
    "            end_index = min((batch_num + 1) * batch_size, data_length)\n",
    "            selected_indices = shuffle_indices[start_index:end_index]\n",
    "            # If we don't have enough data left for a whole batch, fill it randomly\n",
    "            if fill is True and end_index >= data_length:\n",
    "                num_missing = batch_size - len(selected_indices)\n",
    "                selected_indices = np.concatenate([selected_indices, random.randint(0, data_length, num_missing)])\n",
    "            yield data[selected_indices]"
   ]
  },
  {
   "cell_type": "code",
   "execution_count": 4,
   "metadata": {
    "collapsed": false
   },
   "outputs": [
    {
     "name": "stderr",
     "output_type": "stream",
     "text": [
      "/Users/dennybritz/projects/venvs/tensorflow/lib/python3.5/site-packages/sklearn/utils/validation.py:420: DataConversionWarning: Data with input dtype uint8 was converted to float64 by the scale function.\n",
      "  warnings.warn(msg, DataConversionWarning)\n"
     ]
    }
   ],
   "source": [
    "# Load MNIST Data\n",
    "mnist = fetch_mldata('MNIST original', data_home=DATA_HOME)\n",
    "data_x = sklearn.preprocessing.scale(mnist.data)\n",
    "x_train, x_test, y_train, y_test = train_test_split(data_x, mnist.target, test_size=0.1, random_state=42)"
   ]
  },
  {
   "cell_type": "code",
   "execution_count": 5,
   "metadata": {
    "collapsed": false
   },
   "outputs": [
    {
     "data": {
      "text/plain": [
       "(63000, 784)"
      ]
     },
     "execution_count": 5,
     "metadata": {},
     "output_type": "execute_result"
    }
   ],
   "source": [
    "x_train.shape"
   ]
  },
  {
   "cell_type": "code",
   "execution_count": 16,
   "metadata": {
    "collapsed": true
   },
   "outputs": [],
   "source": [
    "class Autoencoder:\n",
    "    def __init__(self, x, hidden_dims=[32]):\n",
    "        self.layers = [x]\n",
    "        \n",
    "        # Build hidden layers\n",
    "        for i, layer in enumerate(hidden_dims):\n",
    "            layer_idx = i + 1\n",
    "            prev_layer = self.layers[layer_idx-1]\n",
    "            prev_layer_dim = prev_layer.get_shape().as_list()[1]\n",
    "            layer_dim = hidden_dims[i]\n",
    "            with tf.variable_scope(\"hidden-{}\".format(i)):\n",
    "                W = tf.Variable(\n",
    "                        tf.truncated_normal([prev_layer_dim, layer_dim]),\n",
    "                        name=\"W\")\n",
    "                b = tf.Variable(tf.zeros([layer_dim]), name=\"b\")\n",
    "                output = tf.nn.relu(tf.nn.xw_plus_b(prev_layer, W, b))\n",
    "                self.layers.append(output)\n",
    "        \n",
    "        # Build output (reconstruction) layer \n",
    "        with tf.variable_scope(\"output\"):\n",
    "            output_dim = self.layers[0].get_shape().as_list()[1]\n",
    "            prev_layer = self.layers[-1]\n",
    "            prev_layer_dim = hidden_dims[-1]\n",
    "            W = tf.Variable(\n",
    "                tf.truncated_normal([prev_layer_dim, output_dim]),\n",
    "                name=\"W\")\n",
    "            b = tf.Variable(tf.zeros([output_dim]), name=\"b\")\n",
    "            output = tf.nn.relu(tf.nn.xw_plus_b(prev_layer, W, b))\n",
    "            self.layers.append(output)\n",
    "        \n",
    "        # Squared loss function\n",
    "        self.loss = tf.reduce_sum(tf.square(self.layers[0] - self.layers[-1]))\n",
    "        self.avg_loss = tf.reduce_mean(tf.square(self.layers[0] - self.layers[-1]))"
   ]
  },
  {
   "cell_type": "code",
   "execution_count": null,
   "metadata": {
    "collapsed": false
   },
   "outputs": [
    {
     "name": "stdout",
     "output_type": "stream",
     "text": [
      "1000: Mean Loss: 19134.6\n",
      "2000: Mean Loss: 11394.8"
     ]
    }
   ],
   "source": [
    "BATCH_SIZE = 32\n",
    "NUM_EPOCHS = 100\n",
    "LAYERS = [32, 32]\n",
    "\n",
    "graph = tf.Graph()\n",
    "sess = tf.Session(graph=graph)\n",
    "with graph.as_default(), sess.as_default():\n",
    "    x = tf.placeholder(tf.float32, [None, x_train.shape[1]])\n",
    "    ae = Autoencoder(x, LAYERS)\n",
    "    \n",
    "    # Training\n",
    "    global_step = tf.Variable(0, name=\"global_step\", trainable=False)\n",
    "    optimizer = tf.train.AdamOptimizer(1e-4)\n",
    "    train_op = optimizer.minimize(ae.loss, global_step=global_step)\n",
    "    \n",
    "    sess.run(tf.initialize_all_variables())\n",
    "    \n",
    "    batches = batch_iter(x_train, BATCH_SIZE, NUM_EPOCHS)\n",
    "    for x_batch in batches:\n",
    "        feed_dict = { x: x_batch }\n",
    "        _, loss, step = sess.run([train_op, ae.avg_loss, global_step], feed_dict)\n",
    "#         if step % 1000 == 0:\n",
    "#             print(\"{}: Train Loss: {:g}\".format(step ,loss))\n",
    "        if step % 1000 == 0:\n",
    "            total_loss =  sess.run(ae.avg_loss, { x: x_train })\n",
    "            print(\"{}: Mean Loss: {:g}\".format(step ,total_loss))"
   ]
  },
  {
   "cell_type": "code",
   "execution_count": 19,
   "metadata": {
    "collapsed": true
   },
   "outputs": [],
   "source": [
    "# Get the compressed representation of the input X\n",
    "with graph.as_default(), sess.as_default():\n",
    "    x_train_transformed = sess.run(ae.layers[-2], { x: x_train })\n",
    "    x_test_transformed = sess.run(ae.layers[-2], { x: x_test })"
   ]
  },
  {
   "cell_type": "code",
   "execution_count": 21,
   "metadata": {
    "collapsed": false
   },
   "outputs": [
    {
     "data": {
      "text/plain": [
       "KNeighborsClassifier(algorithm='auto', leaf_size=30, metric='minkowski',\n",
       "           metric_params=None, n_jobs=1, n_neighbors=5, p=2,\n",
       "           weights='uniform')"
      ]
     },
     "execution_count": 21,
     "metadata": {},
     "output_type": "execute_result"
    }
   ],
   "source": [
    "clf = KNeighborsClassifier()\n",
    "clf.fit(x_train_transformed, y_train)"
   ]
  },
  {
   "cell_type": "code",
   "execution_count": 22,
   "metadata": {
    "collapsed": false
   },
   "outputs": [
    {
     "name": "stdout",
     "output_type": "stream",
     "text": [
      "             precision    recall  f1-score   support\n",
      "\n",
      "        0.0       0.37      0.82      0.51       671\n",
      "        1.0       0.82      0.98      0.89       800\n",
      "        2.0       0.33      0.29      0.31       697\n",
      "        3.0       0.45      0.43      0.44       719\n",
      "        4.0       0.55      0.50      0.53       653\n",
      "        5.0       0.65      0.40      0.49       662\n",
      "        6.0       0.79      0.64      0.71       712\n",
      "        7.0       0.71      0.70      0.71       739\n",
      "        8.0       0.62      0.36      0.46       686\n",
      "        9.0       0.67      0.57      0.61       661\n",
      "\n",
      "avg / total       0.60      0.58      0.57      7000\n",
      "\n"
     ]
    }
   ],
   "source": [
    "y_pred = clf.predict(x_test_transformed)\n",
    "print(classification_report(y_test, y_pred))"
   ]
  },
  {
   "cell_type": "code",
   "execution_count": null,
   "metadata": {
    "collapsed": true
   },
   "outputs": [],
   "source": []
  }
 ],
 "metadata": {
  "kernelspec": {
   "display_name": "Python 3",
   "language": "python",
   "name": "python3"
  },
  "language_info": {
   "codemirror_mode": {
    "name": "ipython",
    "version": 3
   },
   "file_extension": ".py",
   "mimetype": "text/x-python",
   "name": "python",
   "nbconvert_exporter": "python",
   "pygments_lexer": "ipython3",
   "version": "3.5.0"
  }
 },
 "nbformat": 4,
 "nbformat_minor": 0
}
