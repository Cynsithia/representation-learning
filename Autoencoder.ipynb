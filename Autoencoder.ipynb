{
 "cells": [
  {
   "cell_type": "code",
   "execution_count": 4,
   "metadata": {
    "collapsed": true
   },
   "outputs": [],
   "source": [
    "import numpy as np\n",
    "import tensorflow as tf\n",
    "from sklearn.cross_validation import train_test_split\n",
    "from sklearn.metrics import accuracy_score, classification_report\n",
    "from sklearn.neighbors import KNeighborsClassifier\n",
    "import sklearn.preprocessing\n",
    "import sklearn.decomposition\n",
    "from sklearn.linear_model import LogisticRegressionCV\n",
    "from sklearn.datasets import fetch_mldata"
   ]
  },
  {
   "cell_type": "code",
   "execution_count": 2,
   "metadata": {
    "collapsed": true
   },
   "outputs": [],
   "source": [
    "DATA_HOME = \"./data\"\n",
    "np.random.seed(42)"
   ]
  },
  {
   "cell_type": "code",
   "execution_count": 3,
   "metadata": {
    "collapsed": false
   },
   "outputs": [
    {
     "name": "stderr",
     "output_type": "stream",
     "text": [
      "/Users/dennybritz/projects/venvs/tensorflow/lib/python3.5/site-packages/sklearn/utils/validation.py:420: DataConversionWarning: Data with input dtype uint8 was converted to float64 by the scale function.\n",
      "  warnings.warn(msg, DataConversionWarning)\n"
     ]
    }
   ],
   "source": [
    "# Load MNIST Data\n",
    "mnist = fetch_mldata('MNIST original', data_home=DATA_HOME)\n",
    "data_x = sklearn.preprocessing.scale(mnist.data)\n",
    "x_train, x_test, y_train, y_test = train_test_split(data_x, mnist.target, test_size=0.1, random_state=42)"
   ]
  },
  {
   "cell_type": "code",
   "execution_count": null,
   "metadata": {
    "collapsed": true
   },
   "outputs": [],
   "source": [
    "class Autoencoder:\n",
    "    def initialize(x, hidden_dims=[32]):\n",
    "        self.layers = [x]\n",
    "        \n",
    "        # Build hidden layers\n",
    "        for i, layer in enumerate(hidden_dims):\n",
    "            layer_idx = i + 1\n",
    "            prev_layer = self.layers[layer_idx-1]\n",
    "            prev_layer_dim = prev_layer.get_shape().as_list()[1]\n",
    "            layer_dim = hidden_dims[layer_idx]\n",
    "            with tf.variable_scope(\"hidden-{}\".format(i)):\n",
    "                W = tf.Variable(\n",
    "                        tf.truncated_normal([prev_layer_dim, layer_dim]),\n",
    "                        name=\"W\")\n",
    "                b = tf.Variable(tf.zeros(layer_dim), name=\"b\")\n",
    "                output = tf.nn.relu(tf.nn.xw_plus_b(prev_layer, W, b))\n",
    "                self.layers.append(output)\n",
    "        \n",
    "        # Build output layer \n",
    "        with tf.variable_scope(\"output\"):\n",
    "            output_dim = self.layers[0].get_shape().as_list()[1]\n",
    "            prev_layer = self.layers[-1]\n",
    "            prev_layer_dim = hidden_dims[-1]\n",
    "            W = tf.Variable(\n",
    "                tf.truncated_normal([prev_layer_dim, output_dim]),\n",
    "                name=\"W\")\n",
    "            b = tf.Variable(tf.zeros(layer_dim), name=\"b\")\n",
    "            output = tf.nn.relu(tf.nn.xw_plus_b(prev_layer, W, b))\n",
    "            self.layers.append(output)\n",
    "        \n",
    "        # Squared loss function\n",
    "        self.loss = tf.reduce_sum(tf.square(self.layers[0] - self.layers[-1]))\n"
   ]
  }
 ],
 "metadata": {
  "kernelspec": {
   "display_name": "Python 3",
   "language": "python",
   "name": "python3"
  },
  "language_info": {
   "codemirror_mode": {
    "name": "ipython",
    "version": 3
   },
   "file_extension": ".py",
   "mimetype": "text/x-python",
   "name": "python",
   "nbconvert_exporter": "python",
   "pygments_lexer": "ipython3",
   "version": "3.5.0"
  }
 },
 "nbformat": 4,
 "nbformat_minor": 0
}
